{
 "cells": [
  {
   "cell_type": "markdown",
   "id": "8a96367c",
   "metadata": {},
   "source": [
    "Author: KISHAN MISHRA\n",
    "Roll: 19\n",
    "SIC : 190310106"
   ]
  },
  {
   "cell_type": "code",
   "execution_count": 1,
   "id": "0fa37c3f",
   "metadata": {},
   "outputs": [],
   "source": [
    "import numpy as np"
   ]
  },
  {
   "cell_type": "markdown",
   "id": "423a8b20",
   "metadata": {},
   "source": [
    "1. Create a null vector of size 10 but the fifth value is 1"
   ]
  },
  {
   "cell_type": "code",
   "execution_count": 2,
   "id": "ba0fc9a8",
   "metadata": {},
   "outputs": [
    {
     "name": "stdout",
     "output_type": "stream",
     "text": [
      "Null vector created is : [0. 0. 0. 0. 1. 0. 0. 0. 0. 0.]\n"
     ]
    }
   ],
   "source": [
    "vec=np.zeros(10)\n",
    "vec[4]=1\n",
    "\n",
    "print(\"Null vector created is :\",vec)"
   ]
  },
  {
   "cell_type": "markdown",
   "id": "729312dc",
   "metadata": {},
   "source": [
    "2. Create a vector with values ranging from 10 to 49 "
   ]
  },
  {
   "cell_type": "code",
   "execution_count": 3,
   "id": "1dbc5603",
   "metadata": {},
   "outputs": [
    {
     "name": "stdout",
     "output_type": "stream",
     "text": [
      "Vector created : [10 11 12 13 14 15 16 17 18 19 20 21 22 23 24 25 26 27 28 29 30 31 32 33\n",
      " 34 35 36 37 38 39 40 41 42 43 44 45 46 47 48 49]\n"
     ]
    }
   ],
   "source": [
    "vec=np.arange(10,50)\n",
    "\n",
    "print(\"Vector created :\",vec)"
   ]
  },
  {
   "cell_type": "markdown",
   "id": "bd08bd36",
   "metadata": {},
   "source": [
    "3. Reverse a vector (first element becomes last)"
   ]
  },
  {
   "cell_type": "code",
   "execution_count": 4,
   "id": "210e51b7",
   "metadata": {},
   "outputs": [
    {
     "name": "stdout",
     "output_type": "stream",
     "text": [
      "Original Vector:  [8 2 1 5 5 3 8 8 7 2]\n",
      "Reversed Vector: [2 7 8 8 3 5 5 1 2 8]\n",
      "Reversed Vector: [2 7 8 8 3 5 5 1 2 8]\n"
     ]
    }
   ],
   "source": [
    "vec=np.random.randint(1,10,10)\n",
    "print(\"Original Vector: \",vec)\n",
    "print(\"Reversed Vector:\",vec[::-1])\n",
    "print(\"Reversed Vector:\",np.flipud(vec)) #np.flipud is used to reverse 1-D arrays"
   ]
  },
  {
   "cell_type": "markdown",
   "id": "c5f29d62",
   "metadata": {},
   "source": [
    "4. Create a 3x3 matrix with values ranging from 0 to 8\n",
    "`hint: reshape`"
   ]
  },
  {
   "cell_type": "code",
   "execution_count": 5,
   "id": "27ed1f74",
   "metadata": {},
   "outputs": [
    {
     "name": "stdout",
     "output_type": "stream",
     "text": [
      "Vector created :\n",
      " [[0 1 2]\n",
      " [3 4 5]\n",
      " [6 7 8]]\n"
     ]
    }
   ],
   "source": [
    "vec=np.arange(0,9).reshape(3,3)\n",
    "\n",
    "print(\"Vector created :\\n\",vec)"
   ]
  },
  {
   "cell_type": "markdown",
   "id": "d123786a",
   "metadata": {},
   "source": [
    "5. Find indices of non-zero elements from [1,2,0,0,4,0]\n",
    "`hint: np.nonzero`"
   ]
  },
  {
   "cell_type": "code",
   "execution_count": 6,
   "id": "aac367db",
   "metadata": {},
   "outputs": [
    {
     "name": "stdout",
     "output_type": "stream",
     "text": [
      "Non zero elements [1 2 4]\n",
      "Non zero element's indices: (array([0, 1, 4]),)\n"
     ]
    }
   ],
   "source": [
    "vec=np.array([1,2,0,0,4,0])\n",
    "\n",
    "print(\"Non zero elements\",vec[vec>0])\n",
    "print(\"Non zero element's indices:\",np.nonzero(vec))"
   ]
  },
  {
   "cell_type": "markdown",
   "id": "27f88f95",
   "metadata": {},
   "source": [
    "6. Create a 3x3x3 array with random values\n",
    "`hint: np.random.random`"
   ]
  },
  {
   "cell_type": "code",
   "execution_count": 7,
   "id": "d6328db6",
   "metadata": {},
   "outputs": [
    {
     "data": {
      "text/plain": [
       "array([[[0.29599283, 0.22545848, 0.89582018],\n",
       "        [0.35589047, 0.56396348, 0.67132773],\n",
       "        [0.28652842, 0.03481496, 0.88316141]],\n",
       "\n",
       "       [[0.14253043, 0.05693258, 0.26470716],\n",
       "        [0.87342903, 0.02665379, 0.27775761],\n",
       "        [0.51089066, 0.03170868, 0.99342841]],\n",
       "\n",
       "       [[0.89568131, 0.32361473, 0.96917741],\n",
       "        [0.41772161, 0.29007128, 0.61271685],\n",
       "        [0.14543045, 0.39943942, 0.24894059]]])"
      ]
     },
     "execution_count": 7,
     "metadata": {},
     "output_type": "execute_result"
    }
   ],
   "source": [
    "vec=np.random.random((3,3,3))\n",
    "vec"
   ]
  },
  {
   "cell_type": "markdown",
   "id": "40e65ea6",
   "metadata": {},
   "source": [
    "7. Create a 10x10 array with random values and find the minimum and\n",
    "maximum values\n",
    "`hint: min, max`"
   ]
  },
  {
   "cell_type": "code",
   "execution_count": 8,
   "id": "305fcd4e",
   "metadata": {},
   "outputs": [
    {
     "name": "stdout",
     "output_type": "stream",
     "text": [
      "Minimum : 0.00041313572257406506 Maximum : 0.9911901174842561\n"
     ]
    }
   ],
   "source": [
    "vec=np.random.random((10,10))\n",
    "\n",
    "print(\"Minimum : {} Maximum : {}\".format(np.min(vec),np.max(vec)))"
   ]
  },
  {
   "cell_type": "markdown",
   "id": "0e84d778",
   "metadata": {},
   "source": [
    "8. Create a random vector of size 30 and find the mean value\n",
    "`hint: mean`"
   ]
  },
  {
   "cell_type": "code",
   "execution_count": 9,
   "id": "b08c858d",
   "metadata": {},
   "outputs": [
    {
     "name": "stdout",
     "output_type": "stream",
     "text": [
      "Original Vector\n",
      " [0.28393866 0.38588422 0.07041723 0.24366055 0.65263414 0.27409403\n",
      " 0.00519373 0.80079249 0.9728565  0.11040063 0.13610245 0.76815737\n",
      " 0.12617425 0.81956091 0.00755969 0.93285348 0.69842662 0.91941521\n",
      " 0.09812229 0.60787669 0.10553162 0.73671578 0.12266671 0.020322\n",
      " 0.47803587 0.71430724 0.61556823 0.18272016 0.85821393 0.74122236]\n",
      "\n",
      "Mean of the vector: 0.4496475012054482\n"
     ]
    }
   ],
   "source": [
    "vec=np.random.random((30))\n",
    "\n",
    "print(\"Original Vector\\n\",vec)\n",
    "\n",
    "print(\"\\nMean of the vector:\",np.mean(vec))"
   ]
  },
  {
   "cell_type": "markdown",
   "id": "8f65821e",
   "metadata": {},
   "source": [
    "9. Create a 2d array with 1 on the border and 0 inside\n",
    "`hint: array[1:-1, 1:-1]`"
   ]
  },
  {
   "cell_type": "code",
   "execution_count": 10,
   "id": "66bc1ad1",
   "metadata": {},
   "outputs": [
    {
     "name": "stdout",
     "output_type": "stream",
     "text": [
      "[[1. 1. 1. 1. 1. 1. 1. 1. 1. 1.]\n",
      " [1. 0. 0. 0. 0. 0. 0. 0. 0. 1.]\n",
      " [1. 0. 0. 0. 0. 0. 0. 0. 0. 1.]\n",
      " [1. 0. 0. 0. 0. 0. 0. 0. 0. 1.]\n",
      " [1. 0. 0. 0. 0. 0. 0. 0. 0. 1.]\n",
      " [1. 0. 0. 0. 0. 0. 0. 0. 0. 1.]\n",
      " [1. 0. 0. 0. 0. 0. 0. 0. 0. 1.]\n",
      " [1. 0. 0. 0. 0. 0. 0. 0. 0. 1.]\n",
      " [1. 0. 0. 0. 0. 0. 0. 0. 0. 1.]\n",
      " [1. 1. 1. 1. 1. 1. 1. 1. 1. 1.]]\n"
     ]
    }
   ],
   "source": [
    "vec=np.ones((10,10))\n",
    "vec[1:-1,1:-1]=0\n",
    "\n",
    "print(vec)"
   ]
  },
  {
   "cell_type": "markdown",
   "id": "defa7724",
   "metadata": {},
   "source": [
    "10. Normalize a 5x5 random matrix\n",
    "`hint: (x -mean)/std`"
   ]
  },
  {
   "cell_type": "code",
   "execution_count": 11,
   "id": "a7c8d1da",
   "metadata": {},
   "outputs": [
    {
     "name": "stdout",
     "output_type": "stream",
     "text": [
      "Vector before normalized :\n",
      " [[0.56534435 0.07204362 0.18160182 0.53839901 0.58810047]\n",
      " [0.03190261 0.86631735 0.11106637 0.64551091 0.9942476 ]\n",
      " [0.59724597 0.94902911 0.10425567 0.5634483  0.34832314]\n",
      " [0.61949445 0.97113153 0.89589182 0.81608969 0.33087814]\n",
      " [0.82514345 0.51700484 0.08195879 0.89407271 0.13799162]]\n",
      "\n",
      "Vector after normalized :\n",
      " [[ 0.1115649  -1.43939024 -1.09493534  0.02684779  0.18311095]\n",
      " [-1.56559501  1.05783478 -1.31670131  0.36361145  1.46005208]\n",
      " [ 0.21186473  1.31788352 -1.3381144   0.10560364 -0.57075756]\n",
      " [ 0.28181476  1.38737431  1.15081798  0.89991724 -0.62560527]\n",
      " [ 0.92838257 -0.04041624 -1.40821658  1.14509863 -1.23204737]]\n"
     ]
    }
   ],
   "source": [
    "vec=np.random.random((5,5))\n",
    "\n",
    "print(\"Vector before normalized :\\n\",vec)\n",
    "\n",
    "mean=np.mean(vec)\n",
    "std=np.std(vec)\n",
    "\n",
    "vec=(vec-mean)/std\n",
    "\n",
    "print(\"\\nVector after normalized :\\n\",vec)"
   ]
  },
  {
   "cell_type": "markdown",
   "id": "f3d2e874",
   "metadata": {},
   "source": [
    "11. Multiply a 5x3 matrix by a 3x2 matrix (real matrix product)"
   ]
  },
  {
   "cell_type": "code",
   "execution_count": 12,
   "id": "e5b775bc",
   "metadata": {},
   "outputs": [
    {
     "name": "stdout",
     "output_type": "stream",
     "text": [
      "[[1.23849844 0.56507386]\n",
      " [0.94928781 0.53073501]\n",
      " [0.55604215 0.39094307]\n",
      " [0.92754955 0.580304  ]\n",
      " [1.49695303 0.68450211]]\n"
     ]
    }
   ],
   "source": [
    "vec=np.random.random((5,3))\n",
    "vec2=np.random.random((3,2))\n",
    "\n",
    "print(vec.dot(vec2))"
   ]
  },
  {
   "cell_type": "markdown",
   "id": "f2e2ca33",
   "metadata": {},
   "source": [
    "12. Given a 1D array, negate all elements which are between 3 and 8, in place."
   ]
  },
  {
   "cell_type": "code",
   "execution_count": 13,
   "id": "f45198b3",
   "metadata": {},
   "outputs": [
    {
     "name": "stdout",
     "output_type": "stream",
     "text": [
      "[ 1  2  3 -4 -5 -6 -7  8  9 10]\n"
     ]
    }
   ],
   "source": [
    "vec=np.arange(1,11)\n",
    "\n",
    "vec[3:7]=np.multiply(vec[3:7],-1)\n",
    "print(vec)"
   ]
  },
  {
   "cell_type": "markdown",
   "id": "d9819a07",
   "metadata": {},
   "source": [
    "13. Find the eigenvalues and eigenvectors of a square matrix.\n",
    "`hint: np.linalg.eig`"
   ]
  },
  {
   "cell_type": "code",
   "execution_count": 14,
   "id": "24da235a",
   "metadata": {},
   "outputs": [
    {
     "name": "stdout",
     "output_type": "stream",
     "text": [
      "Original Vector: \n",
      " [[1 2 3]\n",
      " [4 5 6]\n",
      " [7 8 9]]\n",
      "\n",
      "Eigen Matrix\n",
      "\n",
      "(array([ 1.61168440e+01, -1.11684397e+00, -4.22209278e-16]), array([[-0.23197069, -0.78583024,  0.40824829],\n",
      "       [-0.52532209, -0.08675134, -0.81649658],\n",
      "       [-0.8186735 ,  0.61232756,  0.40824829]]))\n"
     ]
    }
   ],
   "source": [
    "vec=np.arange(1,10).reshape(3,3)\n",
    "print(\"Original Vector: \\n\",vec)\n",
    "\n",
    "print(\"\\nEigen Matrix\\n\")\n",
    "print(np.linalg.eig(vec))\n"
   ]
  },
  {
   "cell_type": "markdown",
   "id": "fa0c49db",
   "metadata": {},
   "source": [
    "14. Find the inverse of a square matrix.\n",
    "`hint: np.linalg.inv`"
   ]
  },
  {
   "cell_type": "code",
   "execution_count": 15,
   "id": "42db57ed",
   "metadata": {},
   "outputs": [
    {
     "name": "stdout",
     "output_type": "stream",
     "text": [
      "Original Vector: \n",
      " [[1 2 3]\n",
      " [4 5 6]\n",
      " [7 8 9]]\n",
      "\n",
      "Inverse of the matrix :\n",
      "[[-4.50359963e+15  9.00719925e+15 -4.50359963e+15]\n",
      " [ 9.00719925e+15 -1.80143985e+16  9.00719925e+15]\n",
      " [-4.50359963e+15  9.00719925e+15 -4.50359963e+15]]\n"
     ]
    }
   ],
   "source": [
    "vec=np.arange(1,10).reshape(3,3)\n",
    "print(\"Original Vector: \\n\",vec)\n",
    "\n",
    "print(\"\\nInverse of the matrix :\")\n",
    "print(np.linalg.inv(vec))"
   ]
  },
  {
   "cell_type": "code",
   "execution_count": null,
   "id": "d48f169e",
   "metadata": {},
   "outputs": [],
   "source": []
  }
 ],
 "metadata": {
  "kernelspec": {
   "display_name": "Python 3 (ipykernel)",
   "language": "python",
   "name": "python3"
  },
  "language_info": {
   "codemirror_mode": {
    "name": "ipython",
    "version": 3
   },
   "file_extension": ".py",
   "mimetype": "text/x-python",
   "name": "python",
   "nbconvert_exporter": "python",
   "pygments_lexer": "ipython3",
   "version": "3.9.7"
  }
 },
 "nbformat": 4,
 "nbformat_minor": 5
}
